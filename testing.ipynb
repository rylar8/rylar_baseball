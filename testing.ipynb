{
 "cells": [
  {
   "cell_type": "code",
   "execution_count": 1,
   "metadata": {},
   "outputs": [],
   "source": [
    "import pandas as pd"
   ]
  },
  {
   "cell_type": "code",
   "execution_count": 2,
   "metadata": {},
   "outputs": [],
   "source": [
    "sampleCSV = 'csv//20220729-BorleskeStadium-1.csv'\n",
    "df = pd.read_csv(sampleCSV)"
   ]
  },
  {
   "cell_type": "code",
   "execution_count": 3,
   "metadata": {},
   "outputs": [],
   "source": [
    "from game import Game"
   ]
  },
  {
   "cell_type": "markdown",
   "metadata": {},
   "source": []
  },
  {
   "cell_type": "code",
   "execution_count": 6,
   "metadata": {},
   "outputs": [
    {
     "name": "stdout",
     "output_type": "stream",
     "text": [
      "Game already in games table: COR_KNI at WWA_SWE on 2022-07-29 (trackman_id = 20220729-BorleskeStadium-1)\n",
      "Data already in trackman table: COR_KNI at WWA_SWE on 2022-07-29 (game_id = 7, trackman_id = 20220729-BorleskeStadium-1)\n",
      "         x        y     c\n",
      "0  1.03211  3.51798   Red\n",
      "1 -1.14205  1.00000   Red\n",
      "2 -0.60055  2.36610   Red\n",
      "3 -0.24390  2.50810   Red\n",
      "4  1.25000  3.47253  Blue\n",
      "5  0.25576  1.45340   Red\n"
     ]
    },
    {
     "data": {
      "image/png": "[encoded data removed]",
      "text/plain": [
       "<Figure size 216x432 with 1 Axes>"
      ]
     },
     "metadata": {
      "needs_background": "light"
     },
     "output_type": "display_data"
    }
   ],
   "source": [
    "game2 = Game()\n",
    "game2.loadCSV(sampleCSV)\n",
    "game2.innings('top')[0].at_bats()[0].getZoneTracer()"
   ]
  },
  {
   "cell_type": "code",
   "execution_count": 5,
   "metadata": {},
   "outputs": [],
   "source": [
    "game2.writeHitterReports('COR_KNI')"
   ]
  },
  {
   "cell_type": "code",
   "execution_count": 6,
   "metadata": {},
   "outputs": [
    {
     "data": {
      "text/plain": [
       "{'Strikeout', 'Undefined', 'Walk'}"
      ]
     },
     "execution_count": 6,
     "metadata": {},
     "output_type": "execute_result"
    }
   ],
   "source": [
    "game1 = Game()\n",
    "game1.loadID('20220729-BorleskeStadium-1')\n",
    "set(game1.data['KorBB'])"
   ]
  },
  {
   "cell_type": "code",
   "execution_count": 11,
   "metadata": {},
   "outputs": [
    {
     "data": {
      "text/plain": [
       "{(2, 3), (4, 1), (6, 1), (8, 3)}"
      ]
     },
     "execution_count": 11,
     "metadata": {},
     "output_type": "execute_result"
    }
   ],
   "source": [
    "batter_id = 1000119617\n",
    "set(game1.data[game1.data['BatterId'] == batter_id][['PAofInning', 'Inning']].apply(lambda row : (row['Inning'], row['PAofInning']), axis=1))"
   ]
  },
  {
   "cell_type": "code",
   "execution_count": 13,
   "metadata": {},
   "outputs": [],
   "source": [
    "at_bat1 = inning1.at_bats()[0]"
   ]
  },
  {
   "cell_type": "code",
   "execution_count": 14,
   "metadata": {},
   "outputs": [],
   "source": [
    "pitch1 = at_bat1.pitches()[0]"
   ]
  },
  {
   "cell_type": "code",
   "execution_count": 12,
   "metadata": {},
   "outputs": [
    {
     "name": "stdout",
     "output_type": "stream",
     "text": [
      "game_id,\n",
      "pitch_num,\n",
      "inning,\n",
      "top_bottom_id,\n",
      "pa_of_inning,\n",
      "pitch_of_pa,\n",
      "pitcher_id,\n",
      "batter_id,\n",
      "catcher_id,\n",
      "league_id,\n",
      "division_id,\n",
      "home_id,\n",
      "away_id,\n",
      "outs,\n",
      "balls,\n",
      "strikes,\n",
      "velocity,\n",
      "vertical,\n",
      "induced,\n",
      "horizontal,\n",
      "spin,\n",
      "axis,\n",
      "tilt,\n",
      "release_height,\n",
      "release_side,\n",
      "release_extension,\n",
      "auto_type_id,\n",
      "tagged_type_id,\n",
      "call_id,\n",
      "location_height,\n",
      "location_side,\n",
      "exit_velocity,\n",
      "launch_angle,\n",
      "hit_direction,\n",
      "hit_spin,\n",
      "hit_type_id,\n",
      "distance,\n",
      "hang_time,\n",
      "hit_bearing,\n",
      "result_id,\n",
      "outs_made,\n",
      "runs_scored,\n",
      "catcher_velocity,\n",
      "catcher_pop\n"
     ]
    }
   ],
   "source": [
    "string = '''game_id, pitch_num, inning, top_bottom_id, pa_of_inning, pitch_of_pa,\n",
    "            pitcher_id, batter_id, catcher_id, league_id, division_id, home_id, away_id, outs, balls, strikes, velocity, \n",
    "            vertical, induced, horizontal, spin, axis, tilt, release_height, release_side, release_extension, auto_type_id,\n",
    "            tagged_type_id, call_id, location_height, location_side, exit_velocity, launch_angle, hit_direction, hit_spin, \n",
    "            hit_type_id, distance, hang_time, hit_bearing, result_id, outs_made, runs_scored, catcher_velocity, catcher_pop'''\n",
    "for s in string.split():\n",
    "    print(s)"
   ]
  },
  {
   "cell_type": "code",
   "execution_count": null,
   "metadata": {},
   "outputs": [],
   "source": []
  },
  {
   "cell_type": "code",
   "execution_count": 15,
   "metadata": {},
   "outputs": [
    {
     "data": {
      "text/plain": [
       "87.5911"
      ]
     },
     "execution_count": 15,
     "metadata": {},
     "output_type": "execute_result"
    }
   ],
   "source": [
    "pitch1.velocity"
   ]
  },
  {
   "cell_type": "code",
   "execution_count": 7,
   "metadata": {},
   "outputs": [
    {
     "data": {
      "text/plain": [
       "0      Top\n",
       "1      Top\n",
       "2      Top\n",
       "3      Top\n",
       "4      Top\n",
       "      ... \n",
       "292    Top\n",
       "293    Top\n",
       "294    Top\n",
       "295    Top\n",
       "296    Top\n",
       "Name: Top/Bottom, Length: 297, dtype: object"
      ]
     },
     "execution_count": 7,
     "metadata": {},
     "output_type": "execute_result"
    }
   ],
   "source": [
    "game1.data['Top/Bottom']"
   ]
  },
  {
   "cell_type": "code",
   "execution_count": 9,
   "metadata": {},
   "outputs": [
    {
     "data": {
      "text/plain": [
       "Index(['PitchNo', 'Date', 'Time', 'PAofInning', 'PitchofPA', 'Pitcher',\n",
       "       'PitcherId', 'PitcherThrows', 'PitcherTeam', 'Batter',\n",
       "       ...\n",
       "       'ThrowTrajectoryZc1', 'ThrowTrajectoryZc2', 'PitchReleaseConfidence',\n",
       "       'PitchLocationConfidence', 'PitchMovementConfidence',\n",
       "       'HitLaunchConfidence', 'HitLandingConfidence',\n",
       "       'CatcherThrowCatchConfidence', 'CatcherThrowReleaseConfidence',\n",
       "       'CatcherThrowLocationConfidence'],\n",
       "      dtype='object', length=167)"
      ]
     },
     "execution_count": 9,
     "metadata": {},
     "output_type": "execute_result"
    }
   ],
   "source": [
    "game1.data.columns"
   ]
  },
  {
   "cell_type": "code",
   "execution_count": 4,
   "metadata": {},
   "outputs": [
    {
     "data": {
      "text/plain": [
       "Index(['TaggedPitchType', 'AutoPitchType', 'PitchCall', 'KorBB',\n",
       "       'TaggedHitType', 'PlayResult', 'OutsOnPlay', 'RunsScored', 'Notes',\n",
       "       'RelSpeed',\n",
       "       ...\n",
       "       'ThrowTrajectoryZc1', 'ThrowTrajectoryZc2', 'PitchReleaseConfidence',\n",
       "       'PitchLocationConfidence', 'PitchMovementConfidence',\n",
       "       'HitLaunchConfidence', 'HitLandingConfidence',\n",
       "       'CatcherThrowCatchConfidence', 'CatcherThrowReleaseConfidence',\n",
       "       'CatcherThrowLocationConfidence'],\n",
       "      dtype='object', length=148)"
      ]
     },
     "execution_count": 4,
     "metadata": {},
     "output_type": "execute_result"
    }
   ],
   "source": [
    "game1.data.columns[19:]"
   ]
  },
  {
   "cell_type": "code",
   "execution_count": 8,
   "metadata": {},
   "outputs": [
    {
     "data": {
      "text/plain": [
       "Index(['HorzRelAngle', 'SpinRate', 'SpinAxis', 'Tilt', 'RelHeight', 'RelSide',\n",
       "       'Extension', 'VertBreak', 'InducedVertBreak', 'HorzBreak',\n",
       "       ...\n",
       "       'ThrowTrajectoryZc1', 'ThrowTrajectoryZc2', 'PitchReleaseConfidence',\n",
       "       'PitchLocationConfidence', 'PitchMovementConfidence',\n",
       "       'HitLaunchConfidence', 'HitLandingConfidence',\n",
       "       'CatcherThrowCatchConfidence', 'CatcherThrowReleaseConfidence',\n",
       "       'CatcherThrowLocationConfidence'],\n",
       "      dtype='object', length=137)"
      ]
     },
     "execution_count": 8,
     "metadata": {},
     "output_type": "execute_result"
    }
   ],
   "source": [
    "game1.data.columns[30:]"
   ]
  },
  {
   "cell_type": "code",
   "execution_count": 9,
   "metadata": {},
   "outputs": [
    {
     "data": {
      "text/plain": [
       "Index(['PlateLocHeight', 'PlateLocSide', 'ZoneSpeed', 'VertApprAngle',\n",
       "       'HorzApprAngle', 'ZoneTime', 'ExitSpeed', 'Angle', 'Direction',\n",
       "       'HitSpinRate',\n",
       "       ...\n",
       "       'ThrowTrajectoryZc1', 'ThrowTrajectoryZc2', 'PitchReleaseConfidence',\n",
       "       'PitchLocationConfidence', 'PitchMovementConfidence',\n",
       "       'HitLaunchConfidence', 'HitLandingConfidence',\n",
       "       'CatcherThrowCatchConfidence', 'CatcherThrowReleaseConfidence',\n",
       "       'CatcherThrowLocationConfidence'],\n",
       "      dtype='object', length=127)"
      ]
     },
     "execution_count": 9,
     "metadata": {},
     "output_type": "execute_result"
    }
   ],
   "source": [
    "game1.data.columns[40:]"
   ]
  },
  {
   "cell_type": "code",
   "execution_count": 11,
   "metadata": {},
   "outputs": [
    {
     "data": {
      "text/plain": [
       "Index(['PositionAt110X', 'PositionAt110Y', 'PositionAt110Z', 'Distance',\n",
       "       'LastTrackedDistance', 'Bearing', 'HangTime', 'pfxx', 'pfxz', 'x0',\n",
       "       ...\n",
       "       'ThrowTrajectoryZc1', 'ThrowTrajectoryZc2', 'PitchReleaseConfidence',\n",
       "       'PitchLocationConfidence', 'PitchMovementConfidence',\n",
       "       'HitLaunchConfidence', 'HitLandingConfidence',\n",
       "       'CatcherThrowCatchConfidence', 'CatcherThrowReleaseConfidence',\n",
       "       'CatcherThrowLocationConfidence'],\n",
       "      dtype='object', length=117)"
      ]
     },
     "execution_count": 11,
     "metadata": {},
     "output_type": "execute_result"
    }
   ],
   "source": [
    "game1.data.columns[50:]"
   ]
  },
  {
   "cell_type": "code",
   "execution_count": 12,
   "metadata": {},
   "outputs": [
    {
     "data": {
      "text/plain": [
       "Index(['y0', 'z0', 'vx0', 'vy0', 'vz0', 'ax0', 'ay0', 'az0', 'HomeTeam',\n",
       "       'AwayTeam',\n",
       "       ...\n",
       "       'ThrowTrajectoryZc1', 'ThrowTrajectoryZc2', 'PitchReleaseConfidence',\n",
       "       'PitchLocationConfidence', 'PitchMovementConfidence',\n",
       "       'HitLaunchConfidence', 'HitLandingConfidence',\n",
       "       'CatcherThrowCatchConfidence', 'CatcherThrowReleaseConfidence',\n",
       "       'CatcherThrowLocationConfidence'],\n",
       "      dtype='object', length=107)"
      ]
     },
     "execution_count": 12,
     "metadata": {},
     "output_type": "execute_result"
    }
   ],
   "source": [
    "game1.data.columns[60:]"
   ]
  },
  {
   "cell_type": "code",
   "execution_count": 13,
   "metadata": {},
   "outputs": [
    {
     "data": {
      "text/plain": [
       "Index(['AwayTeam', 'Stadium', 'Level', 'League', 'GameID', 'PitchUID',\n",
       "       'EffectiveVelo', 'MaxHeight', 'MeasuredDuration', 'SpeedDrop',\n",
       "       'PitchLastMeasuredX', 'PitchLastMeasuredY', 'PitchLastMeasuredZ',\n",
       "       'ContactPositionX', 'ContactPositionY', 'ContactPositionZ', 'GameUID',\n",
       "       'UTCDate', 'UTCTime', 'LocalDateTime', 'UTCDateTime', 'AutoHitType',\n",
       "       'System', 'HomeTeamForeignID', 'AwayTeamForeignID', 'GameForeignID',\n",
       "       'Catcher', 'CatcherId', 'CatcherThrows', 'CatcherTeam', 'PlayID',\n",
       "       'PitchTrajectoryXc0', 'PitchTrajectoryXc1', 'PitchTrajectoryXc2',\n",
       "       'PitchTrajectoryYc0', 'PitchTrajectoryYc1', 'PitchTrajectoryYc2',\n",
       "       'PitchTrajectoryZc0', 'PitchTrajectoryZc1', 'PitchTrajectoryZc2',\n",
       "       'HitSpinAxis', 'HitTrajectoryXc0', 'HitTrajectoryXc1',\n",
       "       'HitTrajectoryXc2', 'HitTrajectoryXc3', 'HitTrajectoryXc4',\n",
       "       'HitTrajectoryXc5', 'HitTrajectoryXc6', 'HitTrajectoryXc7',\n",
       "       'HitTrajectoryXc8', 'HitTrajectoryYc0', 'HitTrajectoryYc1',\n",
       "       'HitTrajectoryYc2', 'HitTrajectoryYc3', 'HitTrajectoryYc4',\n",
       "       'HitTrajectoryYc5', 'HitTrajectoryYc6', 'HitTrajectoryYc7',\n",
       "       'HitTrajectoryYc8', 'HitTrajectoryZc0', 'HitTrajectoryZc1',\n",
       "       'HitTrajectoryZc2', 'HitTrajectoryZc3', 'HitTrajectoryZc4',\n",
       "       'HitTrajectoryZc5', 'HitTrajectoryZc6', 'HitTrajectoryZc7',\n",
       "       'HitTrajectoryZc8', 'ThrowSpeed', 'PopTime', 'ExchangeTime',\n",
       "       'TimeToBase', 'CatchPositionX', 'CatchPositionY', 'CatchPositionZ',\n",
       "       'ThrowPositionX', 'ThrowPositionY', 'ThrowPositionZ', 'BasePositionX',\n",
       "       'BasePositionY', 'BasePositionZ', 'ThrowTrajectoryXc0',\n",
       "       'ThrowTrajectoryXc1', 'ThrowTrajectoryXc2', 'ThrowTrajectoryYc0',\n",
       "       'ThrowTrajectoryYc1', 'ThrowTrajectoryYc2', 'ThrowTrajectoryZc0',\n",
       "       'ThrowTrajectoryZc1', 'ThrowTrajectoryZc2', 'PitchReleaseConfidence',\n",
       "       'PitchLocationConfidence', 'PitchMovementConfidence',\n",
       "       'HitLaunchConfidence', 'HitLandingConfidence',\n",
       "       'CatcherThrowCatchConfidence', 'CatcherThrowReleaseConfidence',\n",
       "       'CatcherThrowLocationConfidence'],\n",
       "      dtype='object')"
      ]
     },
     "execution_count": 13,
     "metadata": {},
     "output_type": "execute_result"
    }
   ],
   "source": [
    "game1.data.columns[69:]"
   ]
  },
  {
   "cell_type": "markdown",
   "metadata": {},
   "source": []
  },
  {
   "attachments": {},
   "cell_type": "markdown",
   "metadata": {},
   "source": [
    "Game Object attributes:\n",
    "- Stadium\n",
    "- Level\n",
    "- League\n",
    "- GameID\n",
    "- Date\n",
    "- Time\n",
    "- Teams\n",
    "    - Team ID\n",
    "    - Players\n",
    "        - Player ID\n",
    "        - Player Attributes\n",
    "- Innings\n",
    "    - Inning Number\n",
    "    - At Bats\n",
    "        - At Bat Number\n",
    "        - Pitches\n",
    "            - Pitch Number\n",
    "            - Pitch Velocity\n",
    "            - Pitch Movement\n",
    "            - Pitch Spin Rate\n",
    "            - Pitch Release Point\n",
    "            - Pitch Tilt\n",
    "            - Pitch Type\n",
    "            - Pitch Location\n",
    "            - Exit Velocity\n",
    "            - Launch Angle\n",
    "            - Hit Direction\n",
    "            - Hit spin?\n",
    "            - Hit Distance\n",
    "            - Pitch Result\n",
    "            - Catcher Throw\n",
    "            - Catcher Event Result\n",
    "        - Pitcher\n",
    "            - Pitcher Name\n",
    "            - Player ID\n",
    "            - Pitcher Side\n",
    "            - Pitcher Team\n",
    "            - Pitcher Profile\n",
    "        - Hitter\n",
    "            - Hitter Name\n",
    "            - Player ID\n",
    "            - Hitter Side\n",
    "            - Hitter Team\n",
    "            - Hitter Profile\n",
    "        - Catcher\n",
    "            - Catcher Name\n",
    "            - Player ID\n",
    "            - Catcher Side\n",
    "            - Catcher Team\n",
    "            - Catcher Profile\n",
    "        - Original Game State\n",
    "            - Runners On\n",
    "                - Runner Name\n",
    "                - Runner ID\n",
    "                - Runner Team\n",
    "                - Runner Profile\n",
    "            - Outs\n",
    "            - Score\n",
    "            - Errors\n",
    "        - Resulting Game State\n",
    "            - Runners On\n",
    "                - Runner Name\n",
    "                - Runner ID\n",
    "                - Runner Team\n",
    "                - Runner Profile\n",
    "            - Outs\n",
    "            - Score\n",
    "            - Errors\n",
    "        - At Bat Result\n",
    "    - Top/Bottom\n",
    "    - Hitting Team/Away Team"
   ]
  },
  {
   "cell_type": "code",
   "execution_count": 4,
   "metadata": {},
   "outputs": [
    {
     "data": {
      "text/html": [
       "<div>\n",
       "<style scoped>\n",
       "    .dataframe tbody tr th:only-of-type {\n",
       "        vertical-align: middle;\n",
       "    }\n",
       "\n",
       "    .dataframe tbody tr th {\n",
       "        vertical-align: top;\n",
       "    }\n",
       "\n",
       "    .dataframe thead th {\n",
       "        text-align: right;\n",
       "    }\n",
       "</style>\n",
       "<table border=\"1\" class=\"dataframe\">\n",
       "  <thead>\n",
       "    <tr style=\"text-align: right;\">\n",
       "      <th></th>\n",
       "      <th>PitchNo</th>\n",
       "      <th>Date</th>\n",
       "      <th>Time</th>\n",
       "      <th>PAofInning</th>\n",
       "      <th>PitchofPA</th>\n",
       "      <th>Pitcher</th>\n",
       "      <th>PitcherId</th>\n",
       "      <th>PitcherThrows</th>\n",
       "      <th>PitcherTeam</th>\n",
       "      <th>Batter</th>\n",
       "      <th>...</th>\n",
       "      <th>ThrowTrajectoryZc1</th>\n",
       "      <th>ThrowTrajectoryZc2</th>\n",
       "      <th>PitchReleaseConfidence</th>\n",
       "      <th>PitchLocationConfidence</th>\n",
       "      <th>PitchMovementConfidence</th>\n",
       "      <th>HitLaunchConfidence</th>\n",
       "      <th>HitLandingConfidence</th>\n",
       "      <th>CatcherThrowCatchConfidence</th>\n",
       "      <th>CatcherThrowReleaseConfidence</th>\n",
       "      <th>CatcherThrowLocationConfidence</th>\n",
       "    </tr>\n",
       "  </thead>\n",
       "  <tbody>\n",
       "    <tr>\n",
       "      <th>0</th>\n",
       "      <td>1</td>\n",
       "      <td>2022-08-15</td>\n",
       "      <td>18:43:21.50</td>\n",
       "      <td>1</td>\n",
       "      <td>1</td>\n",
       "      <td>Scott, Matt</td>\n",
       "      <td>1.000110e+09</td>\n",
       "      <td>Right</td>\n",
       "      <td>COR_KNI</td>\n",
       "      <td>Moore, Malcom</td>\n",
       "      <td>...</td>\n",
       "      <td>NaN</td>\n",
       "      <td>NaN</td>\n",
       "      <td>High</td>\n",
       "      <td>High</td>\n",
       "      <td>High</td>\n",
       "      <td>NaN</td>\n",
       "      <td>NaN</td>\n",
       "      <td>NaN</td>\n",
       "      <td>NaN</td>\n",
       "      <td>NaN</td>\n",
       "    </tr>\n",
       "    <tr>\n",
       "      <th>1</th>\n",
       "      <td>2</td>\n",
       "      <td>2022-08-15</td>\n",
       "      <td>18:43:37.19</td>\n",
       "      <td>1</td>\n",
       "      <td>2</td>\n",
       "      <td>Scott, Matt</td>\n",
       "      <td>1.000110e+09</td>\n",
       "      <td>Right</td>\n",
       "      <td>COR_KNI</td>\n",
       "      <td>Moore, Malcom</td>\n",
       "      <td>...</td>\n",
       "      <td>NaN</td>\n",
       "      <td>NaN</td>\n",
       "      <td>High</td>\n",
       "      <td>High</td>\n",
       "      <td>High</td>\n",
       "      <td>NaN</td>\n",
       "      <td>NaN</td>\n",
       "      <td>NaN</td>\n",
       "      <td>NaN</td>\n",
       "      <td>NaN</td>\n",
       "    </tr>\n",
       "    <tr>\n",
       "      <th>2</th>\n",
       "      <td>3</td>\n",
       "      <td>2022-08-15</td>\n",
       "      <td>18:43:54.55</td>\n",
       "      <td>1</td>\n",
       "      <td>3</td>\n",
       "      <td>Scott, Matt</td>\n",
       "      <td>1.000110e+09</td>\n",
       "      <td>Right</td>\n",
       "      <td>COR_KNI</td>\n",
       "      <td>Moore, Malcom</td>\n",
       "      <td>...</td>\n",
       "      <td>NaN</td>\n",
       "      <td>NaN</td>\n",
       "      <td>High</td>\n",
       "      <td>High</td>\n",
       "      <td>High</td>\n",
       "      <td>NaN</td>\n",
       "      <td>NaN</td>\n",
       "      <td>NaN</td>\n",
       "      <td>NaN</td>\n",
       "      <td>NaN</td>\n",
       "    </tr>\n",
       "    <tr>\n",
       "      <th>3</th>\n",
       "      <td>4</td>\n",
       "      <td>2022-08-15</td>\n",
       "      <td>18:44:13.20</td>\n",
       "      <td>1</td>\n",
       "      <td>4</td>\n",
       "      <td>Scott, Matt</td>\n",
       "      <td>1.000110e+09</td>\n",
       "      <td>Right</td>\n",
       "      <td>COR_KNI</td>\n",
       "      <td>Moore, Malcom</td>\n",
       "      <td>...</td>\n",
       "      <td>NaN</td>\n",
       "      <td>NaN</td>\n",
       "      <td>High</td>\n",
       "      <td>High</td>\n",
       "      <td>High</td>\n",
       "      <td>NaN</td>\n",
       "      <td>NaN</td>\n",
       "      <td>NaN</td>\n",
       "      <td>NaN</td>\n",
       "      <td>NaN</td>\n",
       "    </tr>\n",
       "    <tr>\n",
       "      <th>4</th>\n",
       "      <td>5</td>\n",
       "      <td>2022-08-15</td>\n",
       "      <td>18:44:32.14</td>\n",
       "      <td>1</td>\n",
       "      <td>5</td>\n",
       "      <td>Scott, Matt</td>\n",
       "      <td>1.000110e+09</td>\n",
       "      <td>Right</td>\n",
       "      <td>COR_KNI</td>\n",
       "      <td>Moore, Malcom</td>\n",
       "      <td>...</td>\n",
       "      <td>NaN</td>\n",
       "      <td>NaN</td>\n",
       "      <td>High</td>\n",
       "      <td>High</td>\n",
       "      <td>High</td>\n",
       "      <td>NaN</td>\n",
       "      <td>NaN</td>\n",
       "      <td>NaN</td>\n",
       "      <td>NaN</td>\n",
       "      <td>NaN</td>\n",
       "    </tr>\n",
       "    <tr>\n",
       "      <th>...</th>\n",
       "      <td>...</td>\n",
       "      <td>...</td>\n",
       "      <td>...</td>\n",
       "      <td>...</td>\n",
       "      <td>...</td>\n",
       "      <td>...</td>\n",
       "      <td>...</td>\n",
       "      <td>...</td>\n",
       "      <td>...</td>\n",
       "      <td>...</td>\n",
       "      <td>...</td>\n",
       "      <td>...</td>\n",
       "      <td>...</td>\n",
       "      <td>...</td>\n",
       "      <td>...</td>\n",
       "      <td>...</td>\n",
       "      <td>...</td>\n",
       "      <td>...</td>\n",
       "      <td>...</td>\n",
       "      <td>...</td>\n",
       "      <td>...</td>\n",
       "    </tr>\n",
       "    <tr>\n",
       "      <th>292</th>\n",
       "      <td>293</td>\n",
       "      <td>2022-08-15</td>\n",
       "      <td>21:18:35.67</td>\n",
       "      <td>3</td>\n",
       "      <td>1</td>\n",
       "      <td>Day, Cameron</td>\n",
       "      <td>1.000120e+09</td>\n",
       "      <td>Right</td>\n",
       "      <td>COR_KNI</td>\n",
       "      <td>Amundsen, Easton</td>\n",
       "      <td>...</td>\n",
       "      <td>NaN</td>\n",
       "      <td>NaN</td>\n",
       "      <td>High</td>\n",
       "      <td>High</td>\n",
       "      <td>High</td>\n",
       "      <td>High</td>\n",
       "      <td>Medium</td>\n",
       "      <td>NaN</td>\n",
       "      <td>NaN</td>\n",
       "      <td>NaN</td>\n",
       "    </tr>\n",
       "    <tr>\n",
       "      <th>293</th>\n",
       "      <td>294</td>\n",
       "      <td>2022-08-15</td>\n",
       "      <td>21:18:53.90</td>\n",
       "      <td>3</td>\n",
       "      <td>2</td>\n",
       "      <td>Day, Cameron</td>\n",
       "      <td>1.000120e+09</td>\n",
       "      <td>Right</td>\n",
       "      <td>COR_KNI</td>\n",
       "      <td>Amundsen, Easton</td>\n",
       "      <td>...</td>\n",
       "      <td>NaN</td>\n",
       "      <td>NaN</td>\n",
       "      <td>High</td>\n",
       "      <td>High</td>\n",
       "      <td>High</td>\n",
       "      <td>NaN</td>\n",
       "      <td>NaN</td>\n",
       "      <td>NaN</td>\n",
       "      <td>NaN</td>\n",
       "      <td>NaN</td>\n",
       "    </tr>\n",
       "    <tr>\n",
       "      <th>294</th>\n",
       "      <td>295</td>\n",
       "      <td>2022-08-15</td>\n",
       "      <td>21:19:05.39</td>\n",
       "      <td>3</td>\n",
       "      <td>3</td>\n",
       "      <td>Day, Cameron</td>\n",
       "      <td>1.000120e+09</td>\n",
       "      <td>Right</td>\n",
       "      <td>COR_KNI</td>\n",
       "      <td>Amundsen, Easton</td>\n",
       "      <td>...</td>\n",
       "      <td>NaN</td>\n",
       "      <td>NaN</td>\n",
       "      <td>High</td>\n",
       "      <td>High</td>\n",
       "      <td>High</td>\n",
       "      <td>NaN</td>\n",
       "      <td>NaN</td>\n",
       "      <td>NaN</td>\n",
       "      <td>NaN</td>\n",
       "      <td>NaN</td>\n",
       "    </tr>\n",
       "    <tr>\n",
       "      <th>295</th>\n",
       "      <td>296</td>\n",
       "      <td>2022-08-15</td>\n",
       "      <td>21:19:26.03</td>\n",
       "      <td>3</td>\n",
       "      <td>4</td>\n",
       "      <td>Day, Cameron</td>\n",
       "      <td>1.000120e+09</td>\n",
       "      <td>Right</td>\n",
       "      <td>COR_KNI</td>\n",
       "      <td>Amundsen, Easton</td>\n",
       "      <td>...</td>\n",
       "      <td>NaN</td>\n",
       "      <td>NaN</td>\n",
       "      <td>High</td>\n",
       "      <td>High</td>\n",
       "      <td>High</td>\n",
       "      <td>NaN</td>\n",
       "      <td>NaN</td>\n",
       "      <td>NaN</td>\n",
       "      <td>NaN</td>\n",
       "      <td>NaN</td>\n",
       "    </tr>\n",
       "    <tr>\n",
       "      <th>296</th>\n",
       "      <td>297</td>\n",
       "      <td>2022-08-15</td>\n",
       "      <td>21:19:40.00</td>\n",
       "      <td>3</td>\n",
       "      <td>5</td>\n",
       "      <td>Day, Cameron</td>\n",
       "      <td>1.000120e+09</td>\n",
       "      <td>Right</td>\n",
       "      <td>COR_KNI</td>\n",
       "      <td>Amundsen, Easton</td>\n",
       "      <td>...</td>\n",
       "      <td>NaN</td>\n",
       "      <td>NaN</td>\n",
       "      <td>High</td>\n",
       "      <td>High</td>\n",
       "      <td>High</td>\n",
       "      <td>NaN</td>\n",
       "      <td>NaN</td>\n",
       "      <td>NaN</td>\n",
       "      <td>NaN</td>\n",
       "      <td>NaN</td>\n",
       "    </tr>\n",
       "  </tbody>\n",
       "</table>\n",
       "<p>297 rows × 167 columns</p>\n",
       "</div>"
      ],
      "text/plain": [
       "     PitchNo        Date         Time  PAofInning  PitchofPA       Pitcher  \\\n",
       "0          1  2022-08-15  18:43:21.50           1          1   Scott, Matt   \n",
       "1          2  2022-08-15  18:43:37.19           1          2   Scott, Matt   \n",
       "2          3  2022-08-15  18:43:54.55           1          3   Scott, Matt   \n",
       "3          4  2022-08-15  18:44:13.20           1          4   Scott, Matt   \n",
       "4          5  2022-08-15  18:44:32.14           1          5   Scott, Matt   \n",
       "..       ...         ...          ...         ...        ...           ...   \n",
       "292      293  2022-08-15  21:18:35.67           3          1  Day, Cameron   \n",
       "293      294  2022-08-15  21:18:53.90           3          2  Day, Cameron   \n",
       "294      295  2022-08-15  21:19:05.39           3          3  Day, Cameron   \n",
       "295      296  2022-08-15  21:19:26.03           3          4  Day, Cameron   \n",
       "296      297  2022-08-15  21:19:40.00           3          5  Day, Cameron   \n",
       "\n",
       "        PitcherId PitcherThrows PitcherTeam            Batter  ...  \\\n",
       "0    1.000110e+09         Right     COR_KNI     Moore, Malcom  ...   \n",
       "1    1.000110e+09         Right     COR_KNI     Moore, Malcom  ...   \n",
       "2    1.000110e+09         Right     COR_KNI     Moore, Malcom  ...   \n",
       "3    1.000110e+09         Right     COR_KNI     Moore, Malcom  ...   \n",
       "4    1.000110e+09         Right     COR_KNI     Moore, Malcom  ...   \n",
       "..            ...           ...         ...               ...  ...   \n",
       "292  1.000120e+09         Right     COR_KNI  Amundsen, Easton  ...   \n",
       "293  1.000120e+09         Right     COR_KNI  Amundsen, Easton  ...   \n",
       "294  1.000120e+09         Right     COR_KNI  Amundsen, Easton  ...   \n",
       "295  1.000120e+09         Right     COR_KNI  Amundsen, Easton  ...   \n",
       "296  1.000120e+09         Right     COR_KNI  Amundsen, Easton  ...   \n",
       "\n",
       "     ThrowTrajectoryZc1 ThrowTrajectoryZc2 PitchReleaseConfidence  \\\n",
       "0                   NaN                NaN                   High   \n",
       "1                   NaN                NaN                   High   \n",
       "2                   NaN                NaN                   High   \n",
       "3                   NaN                NaN                   High   \n",
       "4                   NaN                NaN                   High   \n",
       "..                  ...                ...                    ...   \n",
       "292                 NaN                NaN                   High   \n",
       "293                 NaN                NaN                   High   \n",
       "294                 NaN                NaN                   High   \n",
       "295                 NaN                NaN                   High   \n",
       "296                 NaN                NaN                   High   \n",
       "\n",
       "    PitchLocationConfidence  PitchMovementConfidence HitLaunchConfidence  \\\n",
       "0                      High                     High                 NaN   \n",
       "1                      High                     High                 NaN   \n",
       "2                      High                     High                 NaN   \n",
       "3                      High                     High                 NaN   \n",
       "4                      High                     High                 NaN   \n",
       "..                      ...                      ...                 ...   \n",
       "292                    High                     High                High   \n",
       "293                    High                     High                 NaN   \n",
       "294                    High                     High                 NaN   \n",
       "295                    High                     High                 NaN   \n",
       "296                    High                     High                 NaN   \n",
       "\n",
       "     HitLandingConfidence  CatcherThrowCatchConfidence  \\\n",
       "0                     NaN                          NaN   \n",
       "1                     NaN                          NaN   \n",
       "2                     NaN                          NaN   \n",
       "3                     NaN                          NaN   \n",
       "4                     NaN                          NaN   \n",
       "..                    ...                          ...   \n",
       "292                Medium                          NaN   \n",
       "293                   NaN                          NaN   \n",
       "294                   NaN                          NaN   \n",
       "295                   NaN                          NaN   \n",
       "296                   NaN                          NaN   \n",
       "\n",
       "     CatcherThrowReleaseConfidence CatcherThrowLocationConfidence  \n",
       "0                              NaN                            NaN  \n",
       "1                              NaN                            NaN  \n",
       "2                              NaN                            NaN  \n",
       "3                              NaN                            NaN  \n",
       "4                              NaN                            NaN  \n",
       "..                             ...                            ...  \n",
       "292                            NaN                            NaN  \n",
       "293                            NaN                            NaN  \n",
       "294                            NaN                            NaN  \n",
       "295                            NaN                            NaN  \n",
       "296                            NaN                            NaN  \n",
       "\n",
       "[297 rows x 167 columns]"
      ]
     },
     "execution_count": 4,
     "metadata": {},
     "output_type": "execute_result"
    }
   ],
   "source": [
    "import inning\n",
    "\n",
    "inning1 = inning.Inning(sampleCSV, 1)\n",
    "inning1.game_data"
   ]
  },
  {
   "cell_type": "code",
   "execution_count": null,
   "metadata": {},
   "outputs": [],
   "source": []
  }
 ],
 "metadata": {
  "kernelspec": {
   "display_name": "base",
   "language": "python",
   "name": "python3"
  },
  "language_info": {
   "codemirror_mode": {
    "name": "ipython",
    "version": 3
   },
   "file_extension": ".py",
   "mimetype": "text/x-python",
   "name": "python",
   "nbconvert_exporter": "python",
   "pygments_lexer": "ipython3",
   "version": "3.8.8"
  },
  "orig_nbformat": 4,
  "vscode": {
   "interpreter": {
    "hash": "8bedc2238a0bcc489d13dfb5f136ea32d7a0946fccc4b7b923c1831461fcce7c"
   }
  }
 },
 "nbformat": 4,
 "nbformat_minor": 2
}
