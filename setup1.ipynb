{
 "cells": [
  {
   "cell_type": "code",
   "execution_count": 4,
   "metadata": {},
   "outputs": [],
   "source": [
    "import pandas as pd\n",
    "sampleCSV = '20220815-GossStadium-1_unverified.csv'"
   ]
  },
  {
   "cell_type": "code",
   "execution_count": null,
   "metadata": {},
   "outputs": [],
   "source": [
    "sampleDF = pd.read_csv(sampleCSV)"
   ]
  },
  {
   "cell_type": "code",
   "execution_count": 1,
   "metadata": {},
   "outputs": [
    {
     "ename": "ModuleNotFoundError",
     "evalue": "No module named 'rylar_baseball'",
     "output_type": "error",
     "traceback": [
      "\u001b[1;31m---------------------------------------------------------------------------\u001b[0m",
      "\u001b[1;31mModuleNotFoundError\u001b[0m                       Traceback (most recent call last)",
      "\u001b[1;32m<ipython-input-1-1307f52c73b1>\u001b[0m in \u001b[0;36m<module>\u001b[1;34m\u001b[0m\n\u001b[1;32m----> 1\u001b[1;33m \u001b[1;32mfrom\u001b[0m \u001b[0mrylar_baseball\u001b[0m \u001b[1;32mimport\u001b[0m \u001b[0mfunctions\u001b[0m \u001b[1;32mas\u001b[0m \u001b[0mf\u001b[0m\u001b[1;33m\u001b[0m\u001b[1;33m\u001b[0m\u001b[0m\n\u001b[0m",
      "\u001b[1;31mModuleNotFoundError\u001b[0m: No module named 'rylar_baseball'"
     ]
    }
   ],
   "source": [
    "import suckme as f\n",
    "\n",
    "f.createGameObject()"
   ]
  },
  {
   "cell_type": "markdown",
   "metadata": {},
   "source": []
  },
  {
   "attachments": {},
   "cell_type": "markdown",
   "metadata": {},
   "source": [
    "Game Object attributes:\n",
    "- Stadium\n",
    "- Level\n",
    "- League\n",
    "- GameID\n",
    "- Date\n",
    "- Time\n",
    "- Teams\n",
    "    - Players\n",
    "- Innings\n",
    "    - At Bats\n",
    "        - Pitches\n",
    "            - Pitch Velocity\n",
    "            - Pitch Movement\n",
    "            - Pitch Spin Rate\n",
    "            - Pitch Release Point\n",
    "            - Pitch Tilt\n",
    "            - Pitch Type\n",
    "            - Pitch Location\n",
    "            - Exit Velocity\n",
    "            - Launch Angle\n",
    "            - Hit Direction\n",
    "            - Hit spin?\n",
    "            - Hit Distance\n",
    "            - Pitch Result\n",
    "            - Catcher Throw\n",
    "            - Catcher Event Result\n",
    "        - Pitcher\n",
    "            - Pitcher Name\n",
    "            - Player ID\n",
    "            - Pitcher Side\n",
    "            - Pitcher Team\n",
    "            - Pitcher Profile\n",
    "        - Hitter\n",
    "            - Hitter Name\n",
    "            - Player ID\n",
    "            - Hitter Side\n",
    "            - Hitter Team\n",
    "            - Hitter Profile\n",
    "        - Catcher\n",
    "            - Catcher Name\n",
    "            - Player ID\n",
    "            - Catcher Side\n",
    "            - Catcher Team\n",
    "            - Catcher Profile\n",
    "        - Original Game State\n",
    "            - Runners On\n",
    "                - Runner Name\n",
    "                - Runner ID\n",
    "                - Runner Team\n",
    "                - Runner Profile\n",
    "            - Outs\n",
    "            - Score\n",
    "            - Errors\n",
    "        - Resulting Game State\n",
    "            - Runners On\n",
    "                - Runner Name\n",
    "                - Runner ID\n",
    "                - Runner Team\n",
    "                - Runner Profile\n",
    "            - Outs\n",
    "            - Score\n",
    "            - Errors\n",
    "        - At Bat Result\n",
    "    - Top/Bottom\n",
    "    - Hitting Team/Away Team"
   ]
  },
  {
   "cell_type": "code",
   "execution_count": null,
   "metadata": {},
   "outputs": [],
   "source": []
  }
 ],
 "metadata": {
  "kernelspec": {
   "display_name": "base",
   "language": "python",
   "name": "python3"
  },
  "language_info": {
   "codemirror_mode": {
    "name": "ipython",
    "version": 3
   },
   "file_extension": ".py",
   "mimetype": "text/x-python",
   "name": "python",
   "nbconvert_exporter": "python",
   "pygments_lexer": "ipython3",
   "version": "3.8.8"
  },
  "orig_nbformat": 4,
  "vscode": {
   "interpreter": {
    "hash": "8bedc2238a0bcc489d13dfb5f136ea32d7a0946fccc4b7b923c1831461fcce7c"
   }
  }
 },
 "nbformat": 4,
 "nbformat_minor": 2
}
